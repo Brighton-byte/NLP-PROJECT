{
 "cells": [
  {
   "cell_type": "markdown",
   "id": "cdacffb9",
   "metadata": {},
   "source": [
    "# IMPORT THE IMPORTANT LIBRARIES"
   ]
  },
  {
   "cell_type": "code",
   "execution_count": 1,
   "id": "619b23f4",
   "metadata": {},
   "outputs": [
    {
     "name": "stderr",
     "output_type": "stream",
     "text": [
      "C:\\Users\\user\\anaconda3\\Lib\\site-packages\\paramiko\\transport.py:219: CryptographyDeprecationWarning: Blowfish has been deprecated\n",
      "  \"class\": algorithms.Blowfish,\n"
     ]
    }
   ],
   "source": [
    "# Time module for measuring the execution time of operations\n",
    "import time\n",
    "# Pandas for data manipulation and analysis, especially handling tabular data\n",
    "import pandas as pd\n",
    "# NumPy for numerical computations and array manipulations\n",
    "import numpy as np\n",
    "# Matplotlib for plotting and visualizing data\n",
    "import matplotlib.pyplot as plt\n",
    "# Inline backend for displaying Matplotlib plots in Jupyter Notebooks\n",
    "%matplotlib inline\n",
    "# Seaborn for creating visually appealing statistical graphics\n",
    "import seaborn as sns\n",
    "sns.set_style('whitegrid')  # Setting the theme to white grid for better visuals\n",
    "# OS module for interacting with the operating system (e.g., file handling)\n",
    "import os\n",
    "# System module for interacting with Python runtime environment\n",
    "import sys\n",
    "# Regular expressions module for text cleaning and pattern matching\n",
    "import re\n",
    "# String module for handling string-related operations\n",
    "import string\n",
    "# Gensim for advanced text processing, including topic modeling and n-gram models\n",
    "import gensim\n",
    "from gensim.utils import simple_preprocess  # Tokenizes and preprocesses text\n",
    "from gensim.parsing.preprocessing import STOPWORDS  # Predefined list of stopwords\n",
    "from gensim.models.phrases import Phraser, Phrases, ENGLISH_CONNECTOR_WORDS  # For n-gram and phrase modeling\n",
    "# SpaCy for advanced text processing, such as lemmatization\n",
    "import spacy\n",
    "# WordCloud for creating word cloud visualizations\n",
    "from wordcloud import WordCloud\n",
    "# Termcolor for adding colors to text in the terminal\n",
    "from termcolor import colored\n",
    "# Setting Pandas display options for better visibility of DataFrame content\n",
    "pd.set_option('display.max_colwidth', None)  # Show full length of strings in cells\n",
    "pd.set_option('display.max_columns', None)  # Display all columns in DataFrames\n",
    "\n",
    "# Warnings module for filtering out unwanted warning messages\n",
    "import warnings\n",
    "warnings.filterwarnings('ignore') # Ignore warnings for cleaner output"
   ]
  },
  {
   "cell_type": "markdown",
   "id": "58915a58",
   "metadata": {},
   "source": [
    "# IMPORT THE DATASET"
   ]
  },
  {
   "cell_type": "code",
   "execution_count": 2,
   "id": "d4d8b88c",
   "metadata": {},
   "outputs": [],
   "source": [
    "# Import and create training set\n",
    "df_train = pd.read_csv(\"train.csv\")"
   ]
  },
  {
   "cell_type": "code",
   "execution_count": 3,
   "id": "da848b32",
   "metadata": {},
   "outputs": [
    {
     "data": {
      "text/html": [
       "<div>\n",
       "<style scoped>\n",
       "    .dataframe tbody tr th:only-of-type {\n",
       "        vertical-align: middle;\n",
       "    }\n",
       "\n",
       "    .dataframe tbody tr th {\n",
       "        vertical-align: top;\n",
       "    }\n",
       "\n",
       "    .dataframe thead th {\n",
       "        text-align: right;\n",
       "    }\n",
       "</style>\n",
       "<table border=\"1\" class=\"dataframe\">\n",
       "  <thead>\n",
       "    <tr style=\"text-align: right;\">\n",
       "      <th></th>\n",
       "      <th>Class Index</th>\n",
       "      <th>Title</th>\n",
       "      <th>Description</th>\n",
       "    </tr>\n",
       "  </thead>\n",
       "  <tbody>\n",
       "    <tr>\n",
       "      <th>0</th>\n",
       "      <td>3</td>\n",
       "      <td>Wall St. Bears Claw Back Into the Black (Reuters)</td>\n",
       "      <td>Reuters - Short-sellers, Wall Street's dwindling\\band of ultra-cynics, are seeing green again.</td>\n",
       "    </tr>\n",
       "    <tr>\n",
       "      <th>1</th>\n",
       "      <td>3</td>\n",
       "      <td>Carlyle Looks Toward Commercial Aerospace (Reuters)</td>\n",
       "      <td>Reuters - Private investment firm Carlyle Group,\\which has a reputation for making well-timed and occasionally\\controversial plays in the defense industry, has quietly placed\\its bets on another part of the market.</td>\n",
       "    </tr>\n",
       "    <tr>\n",
       "      <th>2</th>\n",
       "      <td>3</td>\n",
       "      <td>Oil and Economy Cloud Stocks' Outlook (Reuters)</td>\n",
       "      <td>Reuters - Soaring crude prices plus worries\\about the economy and the outlook for earnings are expected to\\hang over the stock market next week during the depth of the\\summer doldrums.</td>\n",
       "    </tr>\n",
       "    <tr>\n",
       "      <th>3</th>\n",
       "      <td>3</td>\n",
       "      <td>Iraq Halts Oil Exports from Main Southern Pipeline (Reuters)</td>\n",
       "      <td>Reuters - Authorities have halted oil export\\flows from the main pipeline in southern Iraq after\\intelligence showed a rebel militia could strike\\infrastructure, an oil official said on Saturday.</td>\n",
       "    </tr>\n",
       "    <tr>\n",
       "      <th>4</th>\n",
       "      <td>3</td>\n",
       "      <td>Oil prices soar to all-time record, posing new menace to US economy (AFP)</td>\n",
       "      <td>AFP - Tearaway world oil prices, toppling records and straining wallets, present a new economic menace barely three months before the US presidential elections.</td>\n",
       "    </tr>\n",
       "  </tbody>\n",
       "</table>\n",
       "</div>"
      ],
      "text/plain": [
       "   Class Index  \\\n",
       "0            3   \n",
       "1            3   \n",
       "2            3   \n",
       "3            3   \n",
       "4            3   \n",
       "\n",
       "                                                                       Title  \\\n",
       "0                          Wall St. Bears Claw Back Into the Black (Reuters)   \n",
       "1                        Carlyle Looks Toward Commercial Aerospace (Reuters)   \n",
       "2                            Oil and Economy Cloud Stocks' Outlook (Reuters)   \n",
       "3               Iraq Halts Oil Exports from Main Southern Pipeline (Reuters)   \n",
       "4  Oil prices soar to all-time record, posing new menace to US economy (AFP)   \n",
       "\n",
       "                                                                                                                                                                                                              Description  \n",
       "0                                                                                                                          Reuters - Short-sellers, Wall Street's dwindling\\band of ultra-cynics, are seeing green again.  \n",
       "1  Reuters - Private investment firm Carlyle Group,\\which has a reputation for making well-timed and occasionally\\controversial plays in the defense industry, has quietly placed\\its bets on another part of the market.  \n",
       "2                                Reuters - Soaring crude prices plus worries\\about the economy and the outlook for earnings are expected to\\hang over the stock market next week during the depth of the\\summer doldrums.  \n",
       "3                     Reuters - Authorities have halted oil export\\flows from the main pipeline in southern Iraq after\\intelligence showed a rebel militia could strike\\infrastructure, an oil official said on Saturday.  \n",
       "4                                                        AFP - Tearaway world oil prices, toppling records and straining wallets, present a new economic menace barely three months before the US presidential elections.  "
      ]
     },
     "execution_count": 3,
     "metadata": {},
     "output_type": "execute_result"
    }
   ],
   "source": [
    "# Display df_train\n",
    "df_train.head()"
   ]
  },
  {
   "cell_type": "code",
   "execution_count": 4,
   "id": "d5f6724a",
   "metadata": {},
   "outputs": [],
   "source": [
    "# Import and create test set\n",
    "df_test = pd.read_csv(\"test.csv\")"
   ]
  },
  {
   "cell_type": "code",
   "execution_count": 5,
   "id": "ac89b04e",
   "metadata": {},
   "outputs": [
    {
     "data": {
      "text/html": [
       "<div>\n",
       "<style scoped>\n",
       "    .dataframe tbody tr th:only-of-type {\n",
       "        vertical-align: middle;\n",
       "    }\n",
       "\n",
       "    .dataframe tbody tr th {\n",
       "        vertical-align: top;\n",
       "    }\n",
       "\n",
       "    .dataframe thead th {\n",
       "        text-align: right;\n",
       "    }\n",
       "</style>\n",
       "<table border=\"1\" class=\"dataframe\">\n",
       "  <thead>\n",
       "    <tr style=\"text-align: right;\">\n",
       "      <th></th>\n",
       "      <th>Class Index</th>\n",
       "      <th>Title</th>\n",
       "      <th>Description</th>\n",
       "    </tr>\n",
       "  </thead>\n",
       "  <tbody>\n",
       "    <tr>\n",
       "      <th>0</th>\n",
       "      <td>3</td>\n",
       "      <td>Fears for T N pension after talks</td>\n",
       "      <td>Unions representing workers at Turner   Newall say they are 'disappointed' after talks with stricken parent firm Federal Mogul.</td>\n",
       "    </tr>\n",
       "    <tr>\n",
       "      <th>1</th>\n",
       "      <td>4</td>\n",
       "      <td>The Race is On: Second Private Team Sets Launch Date for Human Spaceflight (SPACE.com)</td>\n",
       "      <td>SPACE.com - TORONTO, Canada -- A second\\team of rocketeers competing for the  #36;10 million Ansari X Prize, a contest for\\privately funded suborbital space flight, has officially announced the first\\launch date for its manned rocket.</td>\n",
       "    </tr>\n",
       "    <tr>\n",
       "      <th>2</th>\n",
       "      <td>4</td>\n",
       "      <td>Ky. Company Wins Grant to Study Peptides (AP)</td>\n",
       "      <td>AP - A company founded by a chemistry researcher at the University of Louisville won a grant to develop a method of producing better peptides, which are short chains of amino acids, the building blocks of proteins.</td>\n",
       "    </tr>\n",
       "    <tr>\n",
       "      <th>3</th>\n",
       "      <td>4</td>\n",
       "      <td>Prediction Unit Helps Forecast Wildfires (AP)</td>\n",
       "      <td>AP - It's barely dawn when Mike Fitzpatrick starts his shift with a blur of colorful maps, figures and endless charts, but already he knows what the day will bring. Lightning will strike in places he expects. Winds will pick up, moist places will dry and flames will roar.</td>\n",
       "    </tr>\n",
       "    <tr>\n",
       "      <th>4</th>\n",
       "      <td>4</td>\n",
       "      <td>Calif. Aims to Limit Farm-Related Smog (AP)</td>\n",
       "      <td>AP - Southern California's smog-fighting agency went after emissions of the bovine variety Friday, adopting the nation's first rules to reduce air pollution from dairy cow manure.</td>\n",
       "    </tr>\n",
       "  </tbody>\n",
       "</table>\n",
       "</div>"
      ],
      "text/plain": [
       "   Class Index  \\\n",
       "0            3   \n",
       "1            4   \n",
       "2            4   \n",
       "3            4   \n",
       "4            4   \n",
       "\n",
       "                                                                                    Title  \\\n",
       "0                                                       Fears for T N pension after talks   \n",
       "1  The Race is On: Second Private Team Sets Launch Date for Human Spaceflight (SPACE.com)   \n",
       "2                                           Ky. Company Wins Grant to Study Peptides (AP)   \n",
       "3                                           Prediction Unit Helps Forecast Wildfires (AP)   \n",
       "4                                             Calif. Aims to Limit Farm-Related Smog (AP)   \n",
       "\n",
       "                                                                                                                                                                                                                                                                        Description  \n",
       "0                                                                                                                                                   Unions representing workers at Turner   Newall say they are 'disappointed' after talks with stricken parent firm Federal Mogul.  \n",
       "1                                        SPACE.com - TORONTO, Canada -- A second\\team of rocketeers competing for the  #36;10 million Ansari X Prize, a contest for\\privately funded suborbital space flight, has officially announced the first\\launch date for its manned rocket.  \n",
       "2                                                            AP - A company founded by a chemistry researcher at the University of Louisville won a grant to develop a method of producing better peptides, which are short chains of amino acids, the building blocks of proteins.  \n",
       "3  AP - It's barely dawn when Mike Fitzpatrick starts his shift with a blur of colorful maps, figures and endless charts, but already he knows what the day will bring. Lightning will strike in places he expects. Winds will pick up, moist places will dry and flames will roar.  \n",
       "4                                                                                               AP - Southern California's smog-fighting agency went after emissions of the bovine variety Friday, adopting the nation's first rules to reduce air pollution from dairy cow manure.  "
      ]
     },
     "execution_count": 5,
     "metadata": {},
     "output_type": "execute_result"
    }
   ],
   "source": [
    "#Display df_test\n",
    "df_test.head()"
   ]
  },
  {
   "cell_type": "code",
   "execution_count": 6,
   "id": "caaec977",
   "metadata": {},
   "outputs": [
    {
     "name": "stdout",
     "output_type": "stream",
     "text": [
      "Train Dataset: (120000, 3)\n",
      "\n",
      "Test Dataset: (7600, 3)\n"
     ]
    }
   ],
   "source": [
    "print(f'Train Dataset: {df_train.shape}')\n",
    "\n",
    "print(f'\\nTest Dataset: {df_test.shape}')"
   ]
  },
  {
   "cell_type": "markdown",
   "id": "8486cee5",
   "metadata": {},
   "source": [
    "# Create a copy of the train dataset"
   ]
  },
  {
   "cell_type": "code",
   "execution_count": 7,
   "id": "b594501f",
   "metadata": {},
   "outputs": [],
   "source": [
    "# Create a copy of the 'df_train' DataFrame and store 'news_df'\n",
    "news_df = df_train.copy()"
   ]
  },
  {
   "cell_type": "code",
   "execution_count": 8,
   "id": "629c5f72",
   "metadata": {},
   "outputs": [],
   "source": [
    "# Combine the 'Title' and 'Description' columns into a new 'news' column\n",
    "news_df['news'] = df_train['Title'] + \" \" + df_train['Description']"
   ]
  },
  {
   "cell_type": "code",
   "execution_count": 9,
   "id": "b0034b71",
   "metadata": {},
   "outputs": [],
   "source": [
    "# Drop the 'Title' and 'Description' columns from 'news_df'\n",
    "news_df.drop(columns=['Title', 'Description'], inplace=True)"
   ]
  },
  {
   "cell_type": "code",
   "execution_count": 10,
   "id": "bc7e4fd8",
   "metadata": {},
   "outputs": [
    {
     "data": {
      "text/html": [
       "<div>\n",
       "<style scoped>\n",
       "    .dataframe tbody tr th:only-of-type {\n",
       "        vertical-align: middle;\n",
       "    }\n",
       "\n",
       "    .dataframe tbody tr th {\n",
       "        vertical-align: top;\n",
       "    }\n",
       "\n",
       "    .dataframe thead th {\n",
       "        text-align: right;\n",
       "    }\n",
       "</style>\n",
       "<table border=\"1\" class=\"dataframe\">\n",
       "  <thead>\n",
       "    <tr style=\"text-align: right;\">\n",
       "      <th></th>\n",
       "      <th>Class Index</th>\n",
       "      <th>news</th>\n",
       "    </tr>\n",
       "  </thead>\n",
       "  <tbody>\n",
       "    <tr>\n",
       "      <th>0</th>\n",
       "      <td>3</td>\n",
       "      <td>Wall St. Bears Claw Back Into the Black (Reuters) Reuters - Short-sellers, Wall Street's dwindling\\band of ultra-cynics, are seeing green again.</td>\n",
       "    </tr>\n",
       "    <tr>\n",
       "      <th>1</th>\n",
       "      <td>3</td>\n",
       "      <td>Carlyle Looks Toward Commercial Aerospace (Reuters) Reuters - Private investment firm Carlyle Group,\\which has a reputation for making well-timed and occasionally\\controversial plays in the defense industry, has quietly placed\\its bets on another part of the market.</td>\n",
       "    </tr>\n",
       "    <tr>\n",
       "      <th>2</th>\n",
       "      <td>3</td>\n",
       "      <td>Oil and Economy Cloud Stocks' Outlook (Reuters) Reuters - Soaring crude prices plus worries\\about the economy and the outlook for earnings are expected to\\hang over the stock market next week during the depth of the\\summer doldrums.</td>\n",
       "    </tr>\n",
       "    <tr>\n",
       "      <th>3</th>\n",
       "      <td>3</td>\n",
       "      <td>Iraq Halts Oil Exports from Main Southern Pipeline (Reuters) Reuters - Authorities have halted oil export\\flows from the main pipeline in southern Iraq after\\intelligence showed a rebel militia could strike\\infrastructure, an oil official said on Saturday.</td>\n",
       "    </tr>\n",
       "    <tr>\n",
       "      <th>4</th>\n",
       "      <td>3</td>\n",
       "      <td>Oil prices soar to all-time record, posing new menace to US economy (AFP) AFP - Tearaway world oil prices, toppling records and straining wallets, present a new economic menace barely three months before the US presidential elections.</td>\n",
       "    </tr>\n",
       "  </tbody>\n",
       "</table>\n",
       "</div>"
      ],
      "text/plain": [
       "   Class Index  \\\n",
       "0            3   \n",
       "1            3   \n",
       "2            3   \n",
       "3            3   \n",
       "4            3   \n",
       "\n",
       "                                                                                                                                                                                                                                                                         news  \n",
       "0                                                                                                                            Wall St. Bears Claw Back Into the Black (Reuters) Reuters - Short-sellers, Wall Street's dwindling\\band of ultra-cynics, are seeing green again.  \n",
       "1  Carlyle Looks Toward Commercial Aerospace (Reuters) Reuters - Private investment firm Carlyle Group,\\which has a reputation for making well-timed and occasionally\\controversial plays in the defense industry, has quietly placed\\its bets on another part of the market.  \n",
       "2                                    Oil and Economy Cloud Stocks' Outlook (Reuters) Reuters - Soaring crude prices plus worries\\about the economy and the outlook for earnings are expected to\\hang over the stock market next week during the depth of the\\summer doldrums.  \n",
       "3            Iraq Halts Oil Exports from Main Southern Pipeline (Reuters) Reuters - Authorities have halted oil export\\flows from the main pipeline in southern Iraq after\\intelligence showed a rebel militia could strike\\infrastructure, an oil official said on Saturday.  \n",
       "4                                  Oil prices soar to all-time record, posing new menace to US economy (AFP) AFP - Tearaway world oil prices, toppling records and straining wallets, present a new economic menace barely three months before the US presidential elections.  "
      ]
     },
     "execution_count": 10,
     "metadata": {},
     "output_type": "execute_result"
    }
   ],
   "source": [
    "# Display the resulting DataFrame\n",
    "news_df.head()"
   ]
  },
  {
   "cell_type": "code",
   "execution_count": 11,
   "id": "fb82d372",
   "metadata": {},
   "outputs": [
    {
     "name": "stdout",
     "output_type": "stream",
     "text": [
      "<class 'pandas.core.frame.DataFrame'>\n",
      "RangeIndex: 120000 entries, 0 to 119999\n",
      "Data columns (total 2 columns):\n",
      " #   Column       Non-Null Count   Dtype \n",
      "---  ------       --------------   ----- \n",
      " 0   Class Index  120000 non-null  int64 \n",
      " 1   news         120000 non-null  object\n",
      "dtypes: int64(1), object(1)\n",
      "memory usage: 1.8+ MB\n"
     ]
    }
   ],
   "source": [
    "# Display summary information of news_df\n",
    "news_df.info()"
   ]
  },
  {
   "cell_type": "code",
   "execution_count": 12,
   "id": "e9431f35",
   "metadata": {},
   "outputs": [
    {
     "data": {
      "text/plain": [
       "Class Index\n",
       "3    30000\n",
       "4    30000\n",
       "2    30000\n",
       "1    30000\n",
       "Name: count, dtype: int64"
      ]
     },
     "execution_count": 12,
     "metadata": {},
     "output_type": "execute_result"
    }
   ],
   "source": [
    "# Count the occurrences of each unique value in the 'Class Index' column\n",
    "news_df['Class Index'].value_counts()"
   ]
  },
  {
   "cell_type": "code",
   "execution_count": 13,
   "id": "38184c21",
   "metadata": {},
   "outputs": [
    {
     "data": {
      "image/png": "[encoded data removed]",
      "text/plain": [
       "<Figure size 300x300 with 1 Axes>"
      ]
     },
     "metadata": {},
     "output_type": "display_data"
    }
   ],
   "source": [
    "# Get unique class indices\n",
    "labels = news_df['Class Index'].unique()\n",
    "# Define real labels\n",
    "real_labels = ['World', 'Sports', 'Business', 'Sci/Tech']\n",
    "# list to store sizes of each class\n",
    "sizes = []\n",
    "# Iterate over each unique class index\n",
    "for i in labels:\n",
    "    # Calculate the size of each class\n",
    "    size = len(news_df[news_df['Class Index'] == i])\n",
    "    sizes.append(size)\n",
    "# Create a pie chart to visualize the distribution of classes\n",
    "fig = plt.figure(figsize=(3, 3))\n",
    "plt.pie(sizes, labels=real_labels, autopct='%1.1f%%',\n",
    "        shadow=True, startangle=90)\n",
    "plt.axis('equal')  \n",
    "# Display the chart\n",
    "plt.show()"
   ]
  },
  {
   "cell_type": "markdown",
   "id": "7177120a",
   "metadata": {},
   "source": [
    "# ASSIGN THE TRAINING AND TESTING DATA"
   ]
  },
  {
   "cell_type": "code",
   "execution_count": 14,
   "id": "38cb3c13",
   "metadata": {},
   "outputs": [],
   "source": [
    "# Assign training data\n",
    "x_train = news_df['news']\n",
    "y_train = news_df['Class Index']"
   ]
  },
  {
   "cell_type": "code",
   "execution_count": 15,
   "id": "e66a79f3",
   "metadata": {},
   "outputs": [],
   "source": [
    "# Assign testing data\n",
    "x_test = df_test['Description']\n",
    "y_test = df_test['Class Index']"
   ]
  },
  {
   "cell_type": "markdown",
   "id": "9fbbefa2",
   "metadata": {},
   "source": [
    "# Preprocessing the Data (used for ML classifiers)"
   ]
  },
  {
   "cell_type": "code",
   "execution_count": 16,
   "id": "4ec7c0dc",
   "metadata": {},
   "outputs": [],
   "source": [
    "def process_description(description):\n",
    "    # Remove HTML Tag\n",
    "    pattern = re.compile(r'<.*?>')\n",
    "    description = description.map(lambda x: re.sub(pattern, '', x))\n",
    "    # Removal of URL\n",
    "    pattern = re.compile(r'https?://\\S+|www\\.\\S+')\n",
    "    description = description.map(lambda x: re.sub(pattern, '', x).strip())\n",
    "    # Convert the to lowercase\n",
    "    description = description.map(lambda x: x.lower())\n",
    "    ## tokenize description\n",
    "    def sent_to_words(sentences):\n",
    "        for sentence in sentences:\n",
    "            yield(simple_preprocess(str(sentence), deacc=False))\n",
    "    data = description.tolist()\n",
    "    disc_tokens = list(sent_to_words(data))\n",
    "    ## Remove punctuation\n",
    "    disc_tokens = [[token for token in sentence if token not in string.punctuation] for sentence in disc_tokens]\n",
    "    ## Remove numbers\n",
    "    disc_tokens = [[token for token in sentence if token not in string.digits] for sentence in disc_tokens]\n",
    "    ## lemmatization: keeping only noun, adj, vb, adv\n",
    "    def lemmatization(texts, allowed_postags=['NOUN', 'ADJ', 'VERB', 'ADV']):\n",
    "        \"\"\"https://spacy.io/api/annotation\"\"\"\n",
    "        # Initialize spacy 'en' model, keeping only tagger component (for efficiency)\n",
    "        nlp = spacy.load(\"en_core_web_sm\", disable=['parser', 'ner'])\n",
    "        texts_out = []\n",
    "        for sent in texts:\n",
    "            doc = nlp(\" \".join(sent)) \n",
    "            texts_out.append([token.lemma_ for token in doc if token.pos_ in allowed_postags])\n",
    "        return texts_out\n",
    "    description_lem = lemmatization(disc_tokens)\n",
    "    ## remove_stopwords\n",
    "    my_stop_words = STOPWORDS.union(set(['company', 'year', 'yesterday', 'week', 'new', 'reuter']))\n",
    "    description_clean = [[token for token in sentence if token not in my_stop_words] for sentence in description_lem]\n",
    "    ## Build the bigram model\n",
    "    bigram = Phrases(description_clean, min_count=5, threshold=100) # higher threshold fewer phrases.\n",
    "    ## Get phrases (bigrams)\n",
    "    bigram_mod = Phraser(bigram)\n",
    "    description_clean = [bigram_mod[sentence] for sentence in description_clean]\n",
    "    return description_clean"
   ]
  },
  {
   "cell_type": "code",
   "execution_count": null,
   "id": "628da018",
   "metadata": {},
   "outputs": [],
   "source": [
    "# Process the news in the training and testing data\n",
    "x_train_clean = process_description(x_train)\n",
    "x_test_clean = process_description(x_test)\n",
    "# Combine the processed descriptions from both training and testing data\n",
    "x_clean = x_train_clean + x_test_clean\n",
    "# Concatenate the labels from both training and testing data\n",
    "Y = pd.concat([y_train, y_test]).reset_index(drop=True)\n",
    "# Print a sample original description and its processed version\n",
    "print('\\033[92m' + 'A sample original description\\n', x_train[0])\n",
    "print('\\033[94m'+'\\nProcessed description\\n', x_train_clean[0])"
   ]
  },
  {
   "cell_type": "markdown",
   "id": "c631cc19",
   "metadata": {},
   "source": [
    "# EDA: Frequency And Visualization"
   ]
  },
  {
   "cell_type": "code",
   "execution_count": null,
   "id": "bbf4ce9c",
   "metadata": {},
   "outputs": [],
   "source": [
    "def getWordCloud(words):\n",
    "    # Combine all words into a single text string.\n",
    "    text = ' '.join(words)\n",
    "    # Generate a word cloud image.\n",
    "    wordcloud = WordCloud().generate(text)\n",
    "    # Display the generated image using matplotlib.\n",
    "    plt.imshow(wordcloud, interpolation='bilinear')\n",
    "    plt.axis(\"off\")\n",
    "    # Create a new word cloud with adjusted font size.\n",
    "    wordcloud = WordCloud(max_font_size=40).generate(text)\n",
    "    # Create a new figure and display the adjusted word cloud.\n",
    "    plt.figure()\n",
    "    plt.imshow(wordcloud, interpolation=\"bilinear\")\n",
    "    plt.axis(\"off\")\n",
    "    # Show the word cloud\n",
    "    plt.show()"
   ]
  },
  {
   "cell_type": "markdown",
   "id": "58b4a499",
   "metadata": {},
   "source": [
    "# WORD CLOUD OF ALL THE LIST"
   ]
  },
  {
   "cell_type": "code",
   "execution_count": null,
   "id": "72fc411b",
   "metadata": {},
   "outputs": [],
   "source": [
    "word_list = []\n",
    "for senc in x_clean:\n",
    "    # Combine words in each sentence into a single string.\n",
    "    merged = ' '.join(senc)\n",
    "    word_list.append(merged)\n",
    "# Generate and display a word cloud\n",
    "getWordCloud(word_list)"
   ]
  },
  {
   "cell_type": "code",
   "execution_count": null,
   "id": "e80c5223",
   "metadata": {},
   "outputs": [],
   "source": [
    "# Separate the items based on the labels\n",
    "world_news = []\n",
    "sports_news = []\n",
    "business_news = []\n",
    "Tech_sci_news = []\n",
    "# Iterate through cleaned data and labels.\n",
    "for data, label in zip(x_clean, Y):\n",
    "    # Categorize data based on label.\n",
    "    if label == 1:\n",
    "        world_news.append(data)\n",
    "    elif label == 2:\n",
    "        sports_news.append(data)\n",
    "    elif label == 3:\n",
    "        business_news.append(data)\n",
    "    else:\n",
    "        Tech_sci_news.append(data)"
   ]
  },
  {
   "cell_type": "markdown",
   "id": "f52c5a6f",
   "metadata": {},
   "source": [
    "# WORLD NEWS WORD CLOUD"
   ]
  },
  {
   "cell_type": "code",
   "execution_count": null,
   "id": "716002c6",
   "metadata": {},
   "outputs": [],
   "source": [
    "word_list = []\n",
    "for senc in world_news:\n",
    "    # Combine words in each sentence into a single string.\n",
    "    merged = ' '.join(senc)\n",
    "    word_list.append(merged)\n",
    "# Generate and display a word cloud\n",
    "getWordCloud(word_list)"
   ]
  },
  {
   "cell_type": "markdown",
   "id": "2bdb60d5",
   "metadata": {},
   "source": [
    "# SPORTS NEWS WORD CLOUD"
   ]
  },
  {
   "cell_type": "code",
   "execution_count": null,
   "id": "84fab1ee",
   "metadata": {},
   "outputs": [],
   "source": [
    "word_list = []\n",
    "for senc in sports_news:\n",
    "    # Combine words in each sentence into a single string.\n",
    "    merged = ' '.join(senc)\n",
    "    word_list.append(merged)\n",
    "# Generate and display a word cloud\n",
    "getWordCloud(word_list)"
   ]
  },
  {
   "cell_type": "markdown",
   "id": "092a5287",
   "metadata": {},
   "source": [
    "# Business News wordCloud"
   ]
  },
  {
   "cell_type": "code",
   "execution_count": null,
   "id": "7e19c3ce",
   "metadata": {},
   "outputs": [],
   "source": [
    "word_list = []\n",
    "for senc in business_news:\n",
    "    # Combine words in each sentence into a single string.\n",
    "    merged = ' '.join(senc)\n",
    "    word_list.append(merged)\n",
    "# Generate and display a word cloud\n",
    "getWordCloud(word_list)"
   ]
  },
  {
   "cell_type": "markdown",
   "id": "6db5ad0c",
   "metadata": {},
   "source": [
    "# Scientific-Technology News Word_Cloud"
   ]
  },
  {
   "cell_type": "code",
   "execution_count": null,
   "id": "66cb19e4",
   "metadata": {},
   "outputs": [],
   "source": [
    "word_list = []\n",
    "for senc in Tech_sci_news:\n",
    "    # Combine words in each sentence into a single string.\n",
    "    merged = ' '.join(senc)\n",
    "    word_list.append(merged)\n",
    "# Generate and display a word cloud\n",
    "getWordCloud(word_list)"
   ]
  },
  {
   "cell_type": "markdown",
   "id": "c9057bed",
   "metadata": {},
   "source": [
    "# WORD FREQUENCIES"
   ]
  },
  {
   "cell_type": "code",
   "execution_count": null,
   "id": "e5733dde",
   "metadata": {},
   "outputs": [],
   "source": [
    "def build_freqs(news, topic):\n",
    "    # Convert topic array to list\n",
    "    topic_list = np.squeeze(topic).tolist()\n",
    "    freqs = {}\n",
    "    # Iterate through news and topics\n",
    "    for disc, y in zip(news, topic_list):\n",
    "        # Iterate through words in each disc\n",
    "        for word in disc:\n",
    "            pair = (word, y)\n",
    "            # Increment frequency for (word, topic) pair\n",
    "            freqs[pair] = freqs.get(pair, 0) + 1\n",
    "    return freqs"
   ]
  },
  {
   "cell_type": "code",
   "execution_count": null,
   "id": "097d4bcf",
   "metadata": {},
   "outputs": [],
   "source": [
    "# create frequency dictionary\n",
    "freqs = build_freqs(x_clean, Y)\n",
    "# check data type\n",
    "print(f'type(freqs) = {type(freqs)}')\n",
    "# check length of the dictionary\n",
    "print(f'len(freqs) = {len(freqs)}\\n')\n",
    "print(freqs)"
   ]
  },
  {
   "cell_type": "code",
   "execution_count": null,
   "id": "6601668e",
   "metadata": {},
   "outputs": [],
   "source": [
    "words = list(set([item for sublist in x_clean for item in sublist]))\n",
    "word_list = []\n",
    "# Iterate through unique words\n",
    "for word in words:\n",
    "    # Get frequencies for each label\n",
    "    freq_label_1 = freqs.get((word, 1), 0)\n",
    "    freq_label_2 = freqs.get((word, 2), 0)\n",
    "    freq_label_3 = freqs.get((word, 3), 0)\n",
    "    freq_label_4 = freqs.get((word, 4), 0)\n",
    "data = []\n",
    "# Loop through selected words\n",
    "for word in words:\n",
    "    # Initialize counts for each class\n",
    "    count_1 = 0\n",
    "    count_2 = 0\n",
    "    count_3 = 0\n",
    "    count_4 = 0\n",
    "    # Retrieve counts for each class\n",
    "    if (word, 1) in freqs:\n",
    "        count_1 = freqs[(word, 1)]\n",
    "    if (word, 2) in freqs:\n",
    "        count_2 = freqs[(word, 2)]\n",
    "    if (word, 3) in freqs:\n",
    "        count_3 = freqs[(word, 3)]\n",
    "    if (word, 4) in freqs:\n",
    "        count_4 = freqs[(word, 4)]\n",
    "    # Append the word counts to the table\n",
    "    data.append([word, count_1, count_2, count_3, count_4])\n",
    "data"
   ]
  },
  {
   "cell_type": "markdown",
   "id": "0ce2b216",
   "metadata": {},
   "source": [
    "# VISUALISATION OF FREQUENT WORDS"
   ]
  },
  {
   "cell_type": "markdown",
   "id": "36fbe1cd",
   "metadata": {},
   "source": [
    "# FOR WORLD NEWS"
   ]
  },
  {
   "cell_type": "code",
   "execution_count": null,
   "id": "9c660d23",
   "metadata": {},
   "outputs": [],
   "source": [
    "# Create a dictionary of world words with their frequencies\n",
    "world_words = {word[0]: word[1] for word in data if word[1] == max(word[1:5])}\n",
    "# Sort the world words by frequency\n",
    "sorted_words = sorted(world_words.items(), key=lambda x: x[1], reverse=True)\n",
    "# Select the top 10 most frequent words\n",
    "top_10_words = sorted_words[:10]\n",
    "# Extract words and frequencies\n",
    "words = [word[0] for word in top_10_words]\n",
    "frequencies = [word[1] for word in top_10_words]\n",
    "# Plot the bar chart\n",
    "plt.figure(figsize=(5, 4))\n",
    "plt.bar(words, frequencies)\n",
    "plt.xlabel('Words', fontsize=12)\n",
    "plt.ylabel('Frequency', fontsize=12)\n",
    "plt.title('Most Frequent Words for World News', fontsize=12)\n",
    "plt.xticks(rotation=60, fontsize=10)\n",
    "plt.grid(False)\n",
    "plt.tight_layout()\n",
    "plt.show()"
   ]
  },
  {
   "cell_type": "markdown",
   "id": "f4ca318d",
   "metadata": {},
   "source": [
    "# FOR SPORTS NEWS"
   ]
  },
  {
   "cell_type": "code",
   "execution_count": null,
   "id": "870e04d1",
   "metadata": {},
   "outputs": [],
   "source": [
    "# Create a dictionary of sports words with their frequencies\n",
    "sports_words = {word[0]: word[2] for word in data if word[2] == max(word[1:5])}\n",
    "# Sort the sports words by frequency\n",
    "sorted_words = sorted(sports_words.items(), key=lambda x: x[1], reverse=True)\n",
    "# Select the top 10 most frequent words\n",
    "top_10_words = sorted_words[:10]\n",
    "# Extract words and frequencies\n",
    "words = [word[0] for word in top_10_words]\n",
    "frequencies = [word[1] for word in top_10_words]\n",
    "# Plot the bar chart\n",
    "plt.figure(figsize=(5, 4))\n",
    "plt.bar(words, frequencies)\n",
    "plt.xlabel('Words', fontsize=12)\n",
    "plt.ylabel('Frequency', fontsize=12)\n",
    "plt.title('Most Frequent Words for Sports News', fontsize=12)\n",
    "plt.xticks(rotation=60, fontsize=10)\n",
    "plt.grid(False)\n",
    "plt.tight_layout()\n",
    "plt.show()"
   ]
  },
  {
   "cell_type": "markdown",
   "id": "f50be3b7",
   "metadata": {},
   "source": [
    "# FOR BUSINESS NEWS"
   ]
  },
  {
   "cell_type": "code",
   "execution_count": null,
   "id": "f4dc11ed",
   "metadata": {},
   "outputs": [],
   "source": [
    "# Create a dictionary of business words with their frequencies\n",
    "business_words = {word[0]: word[3] for word in data if word[3] == max(word[1:5])}\n",
    "# Sort the business words by frequency\n",
    "sorted_words = sorted(business_words.items(), key=lambda x: x[1], reverse=True)\n",
    "# Select the top 10 most frequent words\n",
    "top_10_words = sorted_words[:10]\n",
    "# Extract words and frequencies\n",
    "words = [word[0] for word in top_10_words]\n",
    "frequencies = [word[1] for word in top_10_words]\n",
    "# Plot the bar chart\n",
    "plt.figure(figsize=(5, 4))\n",
    "plt.bar(words, frequencies)\n",
    "plt.xlabel('Words', fontsize=12)\n",
    "plt.ylabel('Frequency', fontsize=12)\n",
    "plt.title('Most Frequent Words for Business News', fontsize=12)\n",
    "plt.xticks(rotation=60, fontsize=10)\n",
    "plt.grid(False)\n",
    "plt.tight_layout()\n",
    "plt.show()"
   ]
  },
  {
   "cell_type": "markdown",
   "id": "e3a7251b",
   "metadata": {},
   "source": [
    "# FOR SCIENCE AND TECHNOLOGY NEWS"
   ]
  },
  {
   "cell_type": "code",
   "execution_count": null,
   "id": "ce0a784a",
   "metadata": {},
   "outputs": [],
   "source": [
    "# Create a dictionary of sci_tech words with their frequencies\n",
    "sci_tech_words = {word[0]: word[4] for word in data if word[4] == max(word[1:5])}\n",
    "# Sort the sci_tech words by frequency\n",
    "sorted_words = sorted(sci_tech_words.items(), key=lambda x: x[1], reverse=True)\n",
    "# Select the top 10 most frequent words\n",
    "top_10_words = sorted_words[:10]\n",
    "# Extract words and frequencies\n",
    "words = [word[0] for word in top_10_words]\n",
    "frequencies = [word[1] for word in top_10_words]\n",
    "# Plot the bar chart\n",
    "plt.figure(figsize=(5, 4))\n",
    "plt.bar(words, frequencies)\n",
    "plt.xlabel('Words', fontsize=12)\n",
    "plt.ylabel('Frequency', fontsize=12)\n",
    "plt.title('Most Frequent Words for Sci_Tech News', fontsize=12)\n",
    "plt.xticks(rotation=60, fontsize=10)\n",
    "plt.grid(False)\n",
    "plt.tight_layout()\n",
    "plt.show()"
   ]
  },
  {
   "cell_type": "markdown",
   "id": "4532a768",
   "metadata": {},
   "source": [
    "# Machine Learning Models"
   ]
  },
  {
   "cell_type": "code",
   "execution_count": null,
   "id": "adc560d8",
   "metadata": {},
   "outputs": [],
   "source": [
    "# Scikit-learn for machine learning models and utilities\n",
    "from sklearn.feature_extraction.text import TfidfVectorizer  # Convert text to TF-IDF features\n",
    "from sklearn.metrics import classification_report, confusion_matrix  # Evaluate classification performance\n",
    "from sklearn.model_selection import train_test_split  # Split data into training and testing sets\n",
    "from sklearn.metrics import accuracy_score  # Measure model accuracy\n",
    "from sklearn.naive_bayes import MultinomialNB  # Naive Bayes classifier for text data\n",
    "from sklearn.linear_model import LogisticRegression  # Logistic Regression for classification\n",
    "from sklearn.svm import SVC  # Support Vector Classifier for text classification\n",
    "from sklearn.model_selection import GridSearchCV  # Hyperparameter tuning\n",
    "from sklearn.pipeline import Pipeline  # Build machine learning pipelines\n",
    "from sklearn.preprocessing import OneHotEncoder  # Encode categorical variables"
   ]
  },
  {
   "cell_type": "markdown",
   "id": "86028591",
   "metadata": {},
   "source": [
    "# Vectorizing text data in train and test datasets"
   ]
  },
  {
   "cell_type": "code",
   "execution_count": null,
   "id": "ae1b3062",
   "metadata": {},
   "outputs": [],
   "source": [
    "# Join tokens in each document into a single string for training data\n",
    "x_train_join = [' '.join(tokens) for tokens in x_train_clean]\n",
    "# Initialize a TF-IDF vectorizer\n",
    "tfidf_vectorizer = TfidfVectorizer()\n",
    "# Fit the vectorizer on the training data and transform the training data\n",
    "x_train_vec = tfidf_vectorizer.fit_transform(x_train_join)\n",
    "# Transform the test data using the same vectorizer\n",
    "x_test_join = [' '.join(tokens) for tokens in x_test_clean]\n",
    "x_test_vec = tfidf_vectorizer.transform(x_test_join)\n",
    "# Print the shapes of the transformed data\n",
    "print(f'x_train_vec: {x_train_vec.shape}')\n",
    "print(f'x_test_vec: {x_test_vec.shape}')"
   ]
  },
  {
   "cell_type": "markdown",
   "id": "26cad806",
   "metadata": {},
   "source": [
    "# Generate a visual and textual summary of the classification performance"
   ]
  },
  {
   "cell_type": "code",
   "execution_count": null,
   "id": "4bcda82f",
   "metadata": {},
   "outputs": [],
   "source": [
    "def report_confusion_matrix(y_test, y_pred):\n",
    "    # Define class names\n",
    "    class_names = ['World', 'Sports', 'Business', 'Sci/Tech']\n",
    "    # Print classification report\n",
    "    print(classification_report(y_test, y_pred, target_names=class_names))\n",
    "    # Calculate confusion matrix\n",
    "    conf_matrix = confusion_matrix(y_test, y_pred)\n",
    "    # Plot heatmap\n",
    "    plt.figure(figsize=(5, 4))\n",
    "    sns.heatmap(conf_matrix, annot=True, fmt=\"d\", xticklabels=class_names, yticklabels=class_names)\n",
    "    plt.xlabel('Predicted Labels')\n",
    "    plt.ylabel('Real Labels')\n",
    "    plt.title('Confusion Matrix')\n",
    "    plt.show()"
   ]
  },
  {
   "cell_type": "markdown",
   "id": "7ab7659f",
   "metadata": {},
   "source": [
    "# TRADITIONAL MACHINE LEARNING MODELS"
   ]
  },
  {
   "cell_type": "markdown",
   "id": "9d23ccb4",
   "metadata": {},
   "source": [
    "# Multinomial Naive Bayes Classifier"
   ]
  },
  {
   "cell_type": "code",
   "execution_count": null,
   "id": "84d974f7",
   "metadata": {},
   "outputs": [],
   "source": [
    "# Building a pipeline\n",
    "munb = Pipeline([\n",
    "    ('tfidf', TfidfVectorizer()),\n",
    "    ('clf', MultinomialNB())\n",
    "])\n",
    "# Record the starting time for measuring the total runtime\n",
    "start = time.time()\n",
    "# Fit the pipeline on the training data\n",
    "munb.fit(x_train_join, y_train)\n",
    "# Predict labels for the test data\n",
    "munb_predict = munb.predict(x_test_join)\n",
    "# Print accuracy\n",
    "print(f'Accuracy: {accuracy_score(y_test, munb_predict) * 100:.2f} %\\n')\n",
    "# Calculate the total runtime and print the result\n",
    "tot_time = time.time() - start\n",
    "print(f\"Total Runtime: {tot_time:.2f} s ({(tot_time/60):.2f} min)\\n\")\n",
    "# display confusion matrix\n",
    "report_confusion_matrix(y_test, munb_predict)"
   ]
  },
  {
   "cell_type": "markdown",
   "id": "b2125a63",
   "metadata": {},
   "source": [
    "# Hyper Parameter Tuning"
   ]
  },
  {
   "cell_type": "code",
   "execution_count": null,
   "id": "b871bfb2",
   "metadata": {},
   "outputs": [],
   "source": [
    "# Define the parameters for grid search\n",
    "parameters = {'clf__alpha': (1, 1e-2, 1e-3)}\n",
    "# Initialize GridSearchCV\n",
    "gs_clf = GridSearchCV(munb, parameters, cv=5, n_jobs=-1)\n",
    "# Perform grid search\n",
    "gs_clf = gs_clf.fit(x_train_join, y_train)\n",
    "# Print the best hyperparameters and the best score\n",
    "print(\"Best Hyperparameters:\", gs_clf.best_params_)\n",
    "print(\"Best Score: \", gs_clf.best_score_)"
   ]
  },
  {
   "cell_type": "code",
   "execution_count": null,
   "id": "80c841df",
   "metadata": {},
   "outputs": [],
   "source": [
    "# Predict labels using the best estimator found by grid search\n",
    "mulnb_predict = gs_clf.predict(x_test_join)\n",
    "# Print the accuracy of the best MultinomialNB model\n",
    "print(f'MultinomialNB Best Accuracy: {accuracy_score(y_test, mulnb_predict) * 100:.2f} %\\n')\n",
    "# Display confusion matrix\n",
    "report_confusion_matrix(y_test, mulnb_predict)"
   ]
  },
  {
   "cell_type": "markdown",
   "id": "e06c5ba4",
   "metadata": {},
   "source": [
    "# SVM Classifier"
   ]
  },
  {
   "cell_type": "code",
   "execution_count": null,
   "id": "4b8e5d76",
   "metadata": {},
   "outputs": [],
   "source": [
    "# Building a pipeline for SVM with RBF kernel\n",
    "svm = Pipeline([\n",
    "    ('tfidf', TfidfVectorizer()),\n",
    "    ('clf', SVC(kernel='rbf'))\n",
    "])\n",
    "# Record the starting time for measuring the total runtime\n",
    "start = time.time()\n",
    "# Fit the pipeline on the training data\n",
    "svm.fit(x_train_join, y_train)\n",
    "# Predict labels for the test data\n",
    "svm_predict = svm.predict(x_test_join)\n",
    "# Print accuracy\n",
    "print(f'Accuracy: {accuracy_score(y_test, svm_predict) * 100:.2f} %\\n')\n",
    "# Calculate the total runtime and print the result\n",
    "tot_time = time.time() - start\n",
    "print(f\"Total Runtime: {tot_time:.2f} s ({(tot_time/60):.2f} min)\\n\")\n",
    "# Report confusion matrix\n",
    "report_confusion_matrix(y_test, svm_predict)"
   ]
  },
  {
   "cell_type": "markdown",
   "id": "cc4d2771",
   "metadata": {},
   "source": [
    "# HyperParameter Tuning"
   ]
  },
  {
   "cell_type": "code",
   "execution_count": null,
   "id": "8880b700",
   "metadata": {},
   "outputs": [],
   "source": [
    "# Define the parameters for grid search\n",
    "parameters = {\n",
    "    'clf__C': [0.1, 1, 10],  \n",
    "\n",
    "    'clf__gamma': [1, 0.1, 0.01], \n",
    "\n",
    "    'clf__kernel': ['rbf', 'linear']\n",
    "}\n",
    "# Initialize GridSearchCV\n",
    "gs_clf = GridSearchCV(svm, parameters, cv=5, n_jobs=-1)\n",
    "# Perform grid search\n",
    "gs_clf = gs_clf.fit(x_train_join, y_train)\n",
    "# Print the best hyperparameters and the best score\n",
    "print(\"Best Hyperparameters:\", gs_clf.best_params_)\n",
    "print(\"Best Score: \", gs_clf.best_score_)"
   ]
  },
  {
   "cell_type": "code",
   "execution_count": null,
   "id": "ab60e923",
   "metadata": {},
   "outputs": [],
   "source": [
    "# Predict labels using the best estimator found by grid search\n",
    "svm_predict = gs_clf.predict(x_test_join)\n",
    "# Print the accuracy of the best SVM model\n",
    "print(f'SVM Best Accuracy: {accuracy_score(y_test, svm_predict) * 100:.2f} %\\n')\n",
    "# Display confusion matrix\n",
    "report_confusion_matrix(y_test, svm_predict)"
   ]
  },
  {
   "cell_type": "code",
   "execution_count": null,
   "id": "cd350df7",
   "metadata": {},
   "outputs": [],
   "source": []
  },
  {
   "cell_type": "code",
   "execution_count": null,
   "id": "b7e361af",
   "metadata": {},
   "outputs": [],
   "source": []
  },
  {
   "cell_type": "code",
   "execution_count": null,
   "id": "a98ec008",
   "metadata": {},
   "outputs": [],
   "source": []
  },
  {
   "cell_type": "code",
   "execution_count": null,
   "id": "23294ca7",
   "metadata": {},
   "outputs": [],
   "source": []
  },
  {
   "cell_type": "markdown",
   "id": "0cdd3aff",
   "metadata": {},
   "source": [
    "# Deep Learning Models"
   ]
  },
  {
   "cell_type": "code",
   "execution_count": null,
   "id": "14af79bf",
   "metadata": {},
   "outputs": [],
   "source": [
    "# TensorFlow for deep learning, including neural network models\n",
    "import tensorflow as tf\n",
    "\n",
    "# Keras, a high-level API for building and training neural networks\n",
    "import keras\n",
    "from tensorflow.keras.preprocessing import sequence  # Preprocessing text for neural networks\n",
    "from tensorflow.keras.models import Sequential, load_model  # Build and load models\n",
    "from tensorflow.keras.layers import Dense, Dropout, Embedding, SimpleRNN, LSTM, GRU  # Neural network layers\n",
    "from tensorflow.keras.callbacks import EarlyStopping  # Stop training early if performance plateaus\n",
    "from tensorflow.keras.losses import binary_crossentropy  # Loss function for binary classification\n",
    "from tensorflow.keras.optimizers import Adam  # Optimizer for training neural networks\n",
    "from keras.initializers import Constant  # Initialize embedding layers with pre-trained weights"
   ]
  },
  {
   "cell_type": "code",
   "execution_count": null,
   "id": "edc448c8",
   "metadata": {},
   "outputs": [],
   "source": []
  },
  {
   "cell_type": "code",
   "execution_count": null,
   "id": "3a1eb26d",
   "metadata": {},
   "outputs": [],
   "source": []
  }
 ],
 "metadata": {
  "kernelspec": {
   "display_name": "Python 3 (ipykernel)",
   "language": "python",
   "name": "python3"
  },
  "language_info": {
   "codemirror_mode": {
    "name": "ipython",
    "version": 3
   },
   "file_extension": ".py",
   "mimetype": "text/x-python",
   "name": "python",
   "nbconvert_exporter": "python",
   "pygments_lexer": "ipython3",
   "version": "3.11.5"
  }
 },
 "nbformat": 4,
 "nbformat_minor": 5
}
